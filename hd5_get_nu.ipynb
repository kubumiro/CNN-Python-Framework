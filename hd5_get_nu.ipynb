{
 "cells": [
  {
   "cell_type": "code",
   "execution_count": 1,
   "metadata": {},
   "outputs": [
    {
     "name": "stderr",
     "output_type": "stream",
     "text": [
      "c:\\users\\user\\appdata\\local\\programs\\python\\python35\\lib\\site-packages\\h5py\\__init__.py:36: FutureWarning: Conversion of the second argument of issubdtype from `float` to `np.floating` is deprecated. In future, it will be treated as `np.float64 == np.dtype(float).type`.\n",
      "  from ._conv import register_converters as _register_converters\n"
     ]
    }
   ],
   "source": [
    "import hdf5tools\n",
    "from matplotlib import pyplot as plt\n",
    "import os\n",
    "import glob\n",
    "import h5py\n",
    "import numpy as np"
   ]
  },
  {
   "cell_type": "code",
   "execution_count": 2,
   "metadata": {},
   "outputs": [
    {
     "name": "stdout",
     "output_type": "stream",
     "text": [
      "['Data\\\\fardet_genie_fluxswap_genierw_fhc_v08_1000_r00013906_s40_c000_N19-03-11_v1_20170915_165654_sim.h5caf.h5', 'Data\\\\fardet_genie_fluxswap_genierw_fhc_v08_1000_r00013909_s14_c000_N19-03-11_v1_20170915_165654_sim.h5caf.h5']\n",
      "Processing Data\\fardet_genie_fluxswap_genierw_fhc_v08_1000_r00013906_s40_c000_N19-03-11_v1_20170915_165654_sim.h5caf.h5 at 2019-11-09 20:24:59.018121\n",
      "3161 cosmics out of 3407 total events and 27 will be retained\n",
      "[   0    1    2 ... 3404 3405 3406]\n",
      "Downsampling cosmics to 10%...\n",
      "(273, 2, 80, 100, 1)\n",
      "(273,)\n",
      "name:  Data\\fardet_genie_fluxswap_genierw_fhc_v08_1000_r00013906_s40_c000_N19-03-11_v1_20170915_165654_sim.h5caf.h5\n",
      "name:  Data\\labeled_downsampled\\labeled_0_fardet_genie_fluxswap_genierw_fhc_v08_1000_r00013906_s40_c000_N19-03-11_v1_20170915_165654_sim.h5caf.h5\n",
      "Data\\labeled_downsampled\\labeled_0_fardet_genie_fluxswap_genierw_fhc_v08_1000_r00013906_s40_c000_N19-03-11_v1_20170915_165654_sim.h5caf.h5 written at 2019-11-09 20:24:59.771749\n",
      "Elapsed time: 0.7536280155181885 seconds\n",
      "Events written: 273\n",
      "\n",
      "Processing Data\\fardet_genie_fluxswap_genierw_fhc_v08_1000_r00013909_s14_c000_N19-03-11_v1_20170915_165654_sim.h5caf.h5 at 2019-11-09 20:24:59.771749\n",
      "3217 cosmics out of 3470 total events and 28 will be retained\n",
      "[   0    1    2 ... 3467 3468 3469]\n",
      "Downsampling cosmics to 10%...\n",
      "(281, 2, 80, 100, 1)\n",
      "(281,)\n",
      "name:  Data\\fardet_genie_fluxswap_genierw_fhc_v08_1000_r00013909_s14_c000_N19-03-11_v1_20170915_165654_sim.h5caf.h5\n",
      "name:  Data\\labeled_downsampled\\labeled_1_fardet_genie_fluxswap_genierw_fhc_v08_1000_r00013909_s14_c000_N19-03-11_v1_20170915_165654_sim.h5caf.h5\n",
      "Data\\labeled_downsampled\\labeled_1_fardet_genie_fluxswap_genierw_fhc_v08_1000_r00013909_s14_c000_N19-03-11_v1_20170915_165654_sim.h5caf.h5 written at 2019-11-09 20:25:00.521885\n",
      "Elapsed time: 0.7511372566223145 seconds\n",
      "Events written: 281\n",
      "\n"
     ]
    }
   ],
   "source": [
    "data = hdf5tools.produce_labeled_h5s(\"Data\", samplecosmics=True)"
   ]
  },
  {
   "cell_type": "code",
   "execution_count": 3,
   "metadata": {},
   "outputs": [
    {
     "name": "stdout",
     "output_type": "stream",
     "text": [
      "filenames:  ['Data/labeled_downsampled\\\\labeled_0_fardet_genie_fluxswap_genierw_fhc_v08_1000_r00013906_s40_c000_N19-03-11_v1_20170915_165654_sim.h5caf.h5', 'Data/labeled_downsampled\\\\labeled_1_fardet_genie_fluxswap_genierw_fhc_v08_1000_r00013909_s14_c000_N19-03-11_v1_20170915_165654_sim.h5caf.h5']\n",
      "(554, 2, 80, 100, 1)\n",
      "(554,)\n",
      "[0 1 3 4]\n",
      "[  3 402  94  55]\n"
     ]
    }
   ],
   "source": [
    "import os\n",
    "import glob\n",
    "import h5py\n",
    "import numpy as np\n",
    "\n",
    "filenames = glob.glob('Data/labeled_downsampled/*.h5')\n",
    "\n",
    "print(\"filenames: \",filenames)\n",
    "\n",
    "\n",
    "pm = np.empty((0, 2, 80, 100, 1), dtype=np.uint8)\n",
    "lb = np.empty((0), dtype=np.uint8)\n",
    "\n",
    "for fn in filenames:\n",
    "    cf = h5py.File(fn)\n",
    "    pm = np.concatenate((pm, cf.get('pixelmaps')), axis=0)\n",
    "    lb = np.concatenate((lb, cf.get('labels')))\n",
    "\n",
    "print(pm.shape)\n",
    "print(lb.shape)\n",
    "\n",
    "uq, hist = np.unique(lb, return_counts=True)\n",
    "\n",
    "print(uq)\n",
    "print(hist) "
   ]
  },
  {
   "cell_type": "code",
   "execution_count": 6,
   "metadata": {},
   "outputs": [
    {
     "name": "stdout",
     "output_type": "stream",
     "text": [
      "1\n"
     ]
    },
    {
     "data": {
      "image/png": "[encoded data removed]",
      "text/plain": [
       "<matplotlib.figure.Figure at 0x233d19f8908>"
      ]
     },
     "metadata": {},
     "output_type": "display_data"
    },
    {
     "data": {
      "image/png": "[encoded data removed]",
      "text/plain": [
       "<matplotlib.figure.Figure at 0x233d19c82b0>"
      ]
     },
     "metadata": {},
     "output_type": "display_data"
    },
    {
     "data": {
      "text/plain": [
       "0"
      ]
     },
     "execution_count": 6,
     "metadata": {},
     "output_type": "execute_result"
    }
   ],
   "source": [
    "from sklearn.model_selection import train_test_split\n",
    "\n",
    "pmaps_train, pmaps_test, y_train, y_test = train_test_split(pm, lb, test_size=1/4, random_state=42)\n",
    "\n",
    "X1_train0 = pmaps_train[:,0]\n",
    "X2_train0 = pmaps_train[:,1]\n",
    "\n",
    "X1_test0 = pmaps_test[:,0]\n",
    "X2_test0 = pmaps_test[:,1]\n",
    "\n",
    "test_id = 23\n",
    "print(y_train[test_id])\n",
    "hdf5tools.print_pixelmaps(pmaps_train,test_id)"
   ]
  },
  {
   "cell_type": "code",
   "execution_count": 7,
   "metadata": {},
   "outputs": [
    {
     "name": "stderr",
     "output_type": "stream",
     "text": [
      "Using TensorFlow backend.\n",
      "c:\\users\\user\\appdata\\local\\programs\\python\\python35\\lib\\site-packages\\tensorflow\\python\\framework\\dtypes.py:469: FutureWarning: Passing (type, 1) or '1type' as a synonym of type is deprecated; in a future version of numpy, it will be understood as (type, (1,)) / '(1,)type'.\n",
      "  _np_qint8 = np.dtype([(\"qint8\", np.int8, 1)])\n",
      "c:\\users\\user\\appdata\\local\\programs\\python\\python35\\lib\\site-packages\\tensorflow\\python\\framework\\dtypes.py:470: FutureWarning: Passing (type, 1) or '1type' as a synonym of type is deprecated; in a future version of numpy, it will be understood as (type, (1,)) / '(1,)type'.\n",
      "  _np_quint8 = np.dtype([(\"quint8\", np.uint8, 1)])\n",
      "c:\\users\\user\\appdata\\local\\programs\\python\\python35\\lib\\site-packages\\tensorflow\\python\\framework\\dtypes.py:471: FutureWarning: Passing (type, 1) or '1type' as a synonym of type is deprecated; in a future version of numpy, it will be understood as (type, (1,)) / '(1,)type'.\n",
      "  _np_qint16 = np.dtype([(\"qint16\", np.int16, 1)])\n",
      "c:\\users\\user\\appdata\\local\\programs\\python\\python35\\lib\\site-packages\\tensorflow\\python\\framework\\dtypes.py:472: FutureWarning: Passing (type, 1) or '1type' as a synonym of type is deprecated; in a future version of numpy, it will be understood as (type, (1,)) / '(1,)type'.\n",
      "  _np_quint16 = np.dtype([(\"quint16\", np.uint16, 1)])\n",
      "c:\\users\\user\\appdata\\local\\programs\\python\\python35\\lib\\site-packages\\tensorflow\\python\\framework\\dtypes.py:473: FutureWarning: Passing (type, 1) or '1type' as a synonym of type is deprecated; in a future version of numpy, it will be understood as (type, (1,)) / '(1,)type'.\n",
      "  _np_qint32 = np.dtype([(\"qint32\", np.int32, 1)])\n",
      "c:\\users\\user\\appdata\\local\\programs\\python\\python35\\lib\\site-packages\\tensorflow\\python\\framework\\dtypes.py:476: FutureWarning: Passing (type, 1) or '1type' as a synonym of type is deprecated; in a future version of numpy, it will be understood as (type, (1,)) / '(1,)type'.\n",
      "  np_resource = np.dtype([(\"resource\", np.ubyte, 1)])\n"
     ]
    }
   ],
   "source": [
    "from keras.utils import np_utils\n",
    "\n",
    "X1_train = X1_train0.astype('float32')/255\n",
    "X2_train = X2_train0.astype('float32')/255\n",
    "Y_train = np_utils.to_categorical(y_train,5)\n",
    "           \n",
    "X1_test = X1_test0.astype('float32')/255\n",
    "X2_test = X2_test0.astype('float32')/255\n",
    "Y_test = np_utils.to_categorical(y_test,5)"
   ]
  },
  {
   "cell_type": "code",
   "execution_count": 8,
   "metadata": {},
   "outputs": [],
   "source": [
    "import models\n",
    "import keras"
   ]
  },
  {
   "cell_type": "code",
   "execution_count": 40,
   "metadata": {},
   "outputs": [],
   "source": [
    "model = models.CVNShortSimple()"
   ]
  },
  {
   "cell_type": "code",
   "execution_count": 41,
   "metadata": {},
   "outputs": [],
   "source": [
    "model.compile(loss='categorical_crossentropy',optimizer='adam',metrics=['acc'])"
   ]
  },
  {
   "cell_type": "code",
   "execution_count": 42,
   "metadata": {},
   "outputs": [
    {
     "name": "stdout",
     "output_type": "stream",
     "text": [
      "Train on 415 samples, validate on 139 samples\n",
      "Epoch 1/10\n",
      "415/415 [==============================] - 94s 226ms/step - loss: 1.8263 - acc: 0.6916 - val_loss: 2.1570 - val_acc: 0.2158\n",
      "Epoch 2/10\n",
      "415/415 [==============================] - 67s 161ms/step - loss: 1.5071 - acc: 0.7373 - val_loss: 3.1931 - val_acc: 0.1079\n",
      "Epoch 3/10\n",
      "415/415 [==============================] - 69s 166ms/step - loss: 1.1560 - acc: 0.8096 - val_loss: 6.6020 - val_acc: 0.1079\n",
      "Epoch 4/10\n",
      "415/415 [==============================] - 76s 183ms/step - loss: 1.2726 - acc: 0.8120 - val_loss: 6.7432 - val_acc: 0.1079\n",
      "Epoch 5/10\n",
      "415/415 [==============================] - 67s 161ms/step - loss: 0.9799 - acc: 0.8747 - val_loss: 10.1503 - val_acc: 0.1079\n",
      "Epoch 6/10\n",
      "415/415 [==============================] - 66s 159ms/step - loss: 1.0264 - acc: 0.8530 - val_loss: 13.6503 - val_acc: 0.1079\n",
      "Epoch 7/10\n",
      "415/415 [==============================] - 68s 165ms/step - loss: 1.0807 - acc: 0.8723 - val_loss: 13.4323 - val_acc: 0.1079\n",
      "Epoch 8/10\n",
      "415/415 [==============================] - 67s 161ms/step - loss: 0.7624 - acc: 0.9301 - val_loss: 8.5293 - val_acc: 0.1079\n",
      "Epoch 9/10\n",
      "415/415 [==============================] - 65s 157ms/step - loss: 0.7863 - acc: 0.9398 - val_loss: 11.1541 - val_acc: 0.1079\n",
      "Epoch 10/10\n",
      "415/415 [==============================] - 65s 158ms/step - loss: 0.7693 - acc: 0.9398 - val_loss: 13.2871 - val_acc: 0.1079\n"
     ]
    }
   ],
   "source": [
    "from keras.callbacks import TensorBoard\n",
    "\n",
    "tb = TensorBoard(histogram_freq=0,\n",
    "                 write_graph=True,\n",
    "                 write_grads=False,\n",
    "                 write_images=True)\n",
    "\n",
    "\n",
    "history = model.fit([X1_train,X2_train], Y_train, batch_size=16, epochs=10, verbose=1,\n",
    "                    validation_data=([X1_test,X2_test], Y_test), callbacks=[tb])"
   ]
  },
  {
   "cell_type": "code",
   "execution_count": 55,
   "metadata": {},
   "outputs": [
    {
     "data": {
      "text/plain": [
       "<HDF5 file \"test\" (mode r+)>"
      ]
     },
     "execution_count": 55,
     "metadata": {},
     "output_type": "execute_result"
    }
   ],
   "source": [
    "h5py.File(\"Predictions/{nm}/test\".format(nm=\"CVN\"), 'w')"
   ]
  },
  {
   "cell_type": "code",
   "execution_count": 45,
   "metadata": {},
   "outputs": [
    {
     "name": "stdout",
     "output_type": "stream",
     "text": [
      "[[  0   0   0   2]\n",
      " [  0   0   0 309]\n",
      " [  0   0   0  64]\n",
      " [  0   0   0  40]]\n"
     ]
    }
   ],
   "source": [
    "from sklearn.metrics import confusion_matrix\n",
    "import numpy as np\n",
    "\n",
    "confusion = confusion_matrix(np.argmax(Y_train,axis=1), np.argmax(y_probs,axis=1))\n",
    "print(confusion)"
   ]
  },
  {
   "cell_type": "code",
   "execution_count": 44,
   "metadata": {},
   "outputs": [
    {
     "data": {
      "text/plain": [
       "array([[5.85451761e-19, 1.29713863e-14, 7.51711800e-12, 1.09822246e-07,\n",
       "        9.99999881e-01],\n",
       "       [4.22828725e-19, 1.00645658e-14, 5.68531116e-12, 6.53931238e-08,\n",
       "        9.99999881e-01],\n",
       "       [4.71115083e-19, 1.27832002e-14, 6.06566533e-12, 6.23059151e-08,\n",
       "        9.99999881e-01],\n",
       "       ...,\n",
       "       [3.59332299e-19, 2.79776931e-14, 4.00123858e-12, 1.34516434e-08,\n",
       "        1.00000000e+00],\n",
       "       [4.19376641e-19, 9.85785838e-15, 5.74238530e-12, 7.05375101e-08,\n",
       "        9.99999881e-01],\n",
       "       [6.18084398e-19, 1.23785403e-14, 8.05177973e-12, 1.40105442e-07,\n",
       "        9.99999881e-01]], dtype=float32)"
      ]
     },
     "execution_count": 44,
     "metadata": {},
     "output_type": "execute_result"
    }
   ],
   "source": [
    "y_probs"
   ]
  },
  {
   "cell_type": "markdown",
   "metadata": {},
   "source": [
    "## Old method"
   ]
  },
  {
   "cell_type": "code",
   "execution_count": 12,
   "metadata": {},
   "outputs": [
    {
     "name": "stdout",
     "output_type": "stream",
     "text": [
      "fardet_genie_fluxswap_genierw_fhc_v08_1000_r00013909_s14_c000_N19-03-11_v1_20170915_165654_sim.h5caf.h5\n"
     ]
    }
   ],
   "source": [
    "for file0 in glob.glob(\"*.h5\"):\n",
    "   \n",
    "    file = h5py.File(file0)\n",
    "    pmaps0 = get_maps(file)\n",
    "    pmaps = np.concatenate((pmaps,pmaps0),axis = 0)\n",
    "\n",
    "    labels0 = get_labels(file)\n",
    "    labels = np.concatenate((labels,labels0),axis = 0)\n",
    "\n",
    "    print(file0)"
   ]
  },
  {
   "cell_type": "code",
   "execution_count": 13,
   "metadata": {},
   "outputs": [
    {
     "data": {
      "text/plain": [
       "((17224,), (17224, 2, 80, 100, 1))"
      ]
     },
     "execution_count": 13,
     "metadata": {},
     "output_type": "execute_result"
    }
   ],
   "source": [
    "labels.shape, pmaps.shape"
   ]
  },
  {
   "cell_type": "code",
   "execution_count": 14,
   "metadata": {},
   "outputs": [],
   "source": [
    "import pandas as pd\n",
    "np.savetxt('scratch_lb.csv', lb , delimiter=',', fmt='%s')"
   ]
  },
  {
   "cell_type": "code",
   "execution_count": 17,
   "metadata": {
    "scrolled": true
   },
   "outputs": [
    {
     "name": "stdout",
     "output_type": "stream",
     "text": [
      "1\n"
     ]
    },
    {
     "data": {
      "image/png": "[encoded data removed]",
      "text/plain": [
       "<matplotlib.figure.Figure at 0x22c69c5aba8>"
      ]
     },
     "metadata": {},
     "output_type": "display_data"
    },
    {
     "data": {
      "image/png": "[encoded data removed]",
      "text/plain": [
       "<matplotlib.figure.Figure at 0x22c64673cc0>"
      ]
     },
     "metadata": {},
     "output_type": "display_data"
    },
    {
     "data": {
      "text/plain": [
       "0"
      ]
     },
     "execution_count": 17,
     "metadata": {},
     "output_type": "execute_result"
    }
   ],
   "source": [
    "i=17\n",
    "print(lb[i])\n",
    "print_pixelmaps(pm,i,1)\n",
    "print_pixelmaps(pm,i,0)"
   ]
  }
 ],
 "metadata": {
  "kernelspec": {
   "display_name": "Python 3",
   "language": "python",
   "name": "python3"
  },
  "language_info": {
   "codemirror_mode": {
    "name": "ipython",
    "version": 3
   },
   "file_extension": ".py",
   "mimetype": "text/x-python",
   "name": "python",
   "nbconvert_exporter": "python",
   "pygments_lexer": "ipython3",
   "version": "3.5.2"
  }
 },
 "nbformat": 4,
 "nbformat_minor": 2
}
